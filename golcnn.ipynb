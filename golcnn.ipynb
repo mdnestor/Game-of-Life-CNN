{
  "nbformat": 4,
  "nbformat_minor": 0,
  "metadata": {
    "colab": {
      "name": "golcnn.ipynb",
      "provenance": [],
      "collapsed_sections": []
    },
    "kernelspec": {
      "name": "python3",
      "display_name": "Python 3"
    },
    "language_info": {
      "name": "python"
    },
    "accelerator": "GPU",
    "gpuClass": "standard"
  },
  "cells": [
    {
      "cell_type": "markdown",
      "source": [
        "# Define a 1-layer convolutional neural network"
      ],
      "metadata": {
        "id": "eZUliMfStPx7"
      }
    },
    {
      "cell_type": "code",
      "source": [
        "import numpy as np\n",
        "import torch\n",
        "import torch.nn as nn\n",
        "import torch.nn.functional as F\n",
        "\n",
        "class GOLCNN(nn.Module):\n",
        "    def __init__(self):\n",
        "        super().__init__()\n",
        "        self.conv = nn.Conv2d(1, 1, 3)\n",
        "        kernel = torch.tensor([[2, 2, 2],\n",
        "                               [2, 1, 2],\n",
        "                               [2, 2, 2]])\n",
        "        kernel = kernel.float().unsqueeze(0).unsqueeze(0)\n",
        "        self.conv.weight = torch.nn.Parameter(kernel)\n",
        "\n",
        "    def activation(self, x):\n",
        "        return torch.heaviside(x - 4.5, torch.tensor(1.0)) - torch.heaviside(x - 7.5, torch.tensor(1.0))\n",
        "\n",
        "    def forward(self, x):\n",
        "        x = F.pad(x, (1, 1, 1, 1), mode='circular')\n",
        "        return self.activation(self.conv(x))\n",
        "\n",
        "golcnn = GOLCNN()\n",
        "device = torch.device('cuda')\n",
        "golcnn = golcnn.to(device)"
      ],
      "metadata": {
        "id": "UKrqs5YP3y3u"
      },
      "execution_count": null,
      "outputs": []
    },
    {
      "cell_type": "markdown",
      "source": [
        "# Random initial state"
      ],
      "metadata": {
        "id": "Uw3aj7PztTPb"
      }
    },
    {
      "cell_type": "code",
      "source": [
        "width, height = 256, 256\n",
        "state = np.random.binomial(n=1, p=0.37, size=(width, height)) # https://arxiv.org/abs/1407.1006\n",
        "state = state.astype('float32')\n",
        "state = torch.tensor(state)\n",
        "state = state.unsqueeze(0).unsqueeze(0)\n",
        "state = state.to(device)"
      ],
      "metadata": {
        "id": "jyIQECurSWku"
      },
      "execution_count": 7,
      "outputs": []
    },
    {
      "cell_type": "markdown",
      "source": [
        "# Simulation"
      ],
      "metadata": {
        "id": "75cpwkUatU4s"
      }
    },
    {
      "cell_type": "code",
      "source": [
        "import time\n",
        "t0 = time.time()\n",
        "history = [state]\n",
        "for _ in range(256):\n",
        "    state = golcnn(state)\n",
        "    history.append(state)\n",
        "t1 = time.time()\n",
        "print(f'Elapsed time: {t1 - t0} s')\n",
        "history = torch.stack(history)\n",
        "history = history.squeeze(1).squeeze(1)\n",
        "history = history.detach().cpu().numpy()"
      ],
      "metadata": {
        "colab": {
          "base_uri": "https://localhost:8080/"
        },
        "id": "Tww_pf10tDwU",
        "outputId": "a91c6e96-6f2a-49a3-a68c-52ebfbdcdde1"
      },
      "execution_count": 11,
      "outputs": [
        {
          "output_type": "stream",
          "name": "stdout",
          "text": [
            "Elapsed time: 0.0832064151763916 s\n"
          ]
        }
      ]
    },
    {
      "cell_type": "markdown",
      "source": [
        "# Save results to video\n"
      ],
      "metadata": {
        "id": "swVmSUAStOWb"
      }
    },
    {
      "cell_type": "code",
      "source": [
        "import cv2\n",
        "out = cv2.VideoWriter('output.mp4', fourcc=cv2.VideoWriter_fourcc(*'mp4v'),\n",
        "                      fps=30, frameSize=(width, height), isColor=False)\n",
        "for a in history:\n",
        "    out.write((255*a).astype(np.uint8))\n",
        "out.release()"
      ],
      "metadata": {
        "id": "UXzQdQifhUZX"
      },
      "execution_count": 24,
      "outputs": []
    }
  ]
}